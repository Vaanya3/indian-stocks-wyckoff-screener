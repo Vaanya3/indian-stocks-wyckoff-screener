{
 "cells": [
  {
   "cell_type": "markdown",
   "metadata": {},
   "source": [
    "# Wyckoff Stage 1 to Stage 2 Breakout Strategy Backtest\n",
    "\n",
    "This notebook allows us to backtest our Wyckoff Method strategy on historical Indian stock data to evaluate its performance."
   ]
  },
  {
   "cell_type": "code",
   "execution_count": null,
   "metadata": {},
   "source": [
    "import sys\n",
    "import os\n",
    "import pandas as pd\n",
    "import numpy as np\n",
    "import matplotlib.pyplot as plt\n",
    "import yfinance as yf\n",
    "from datetime import datetime, timedelta\n",
    "import mplfinance as mpf\n",
    "\n",
    "# Add the project directory to the path\n",
    "sys.path.append('..')\n",
    "\n",
    "# Import necessary modules\n",
    "from src.analysis import (\n",
    "    add_technical_indicators,\n",
    "    identify_resistance_level,\n",
    "    is_in_base,\n",
    "    is_breaking_out,\n",
    "    check_momentum_filters\n",
    ")"
   ]
  },
  {
   "cell_type": "markdown",
   "metadata": {},
   "source": [
    "## 1. Define Backtest Parameters"
   ]
  },
  {
   "cell_type": "code",
   "execution_count": null,
   "metadata": {},
   "source": [
    "# Backtest parameters\n",
    "START_DATE = '2020-01-01'\n",
    "END_DATE = '2023-12-31'\n",
    "HOLDING_PERIODS = [30, 60, 90]  # Days to hold after breakout\n",
    "STOP_LOSS = 0.07  # 7% stop loss\n",
    "\n",
    "# Test stocks\n",
    "TEST_STOCKS = [\n",
    "    'RELIANCE.NS',\n",
    "    'TCS.NS',\n",
    "    'HDFCBANK.NS',\n",
    "    'INFY.NS',\n",
    "    'ICICIBANK.NS',\n",
    "    'HINDUNILVR.NS',\n",
    "    'SBIN.NS',\n",
    "    'BHARTIARTL.NS',\n",
    "    'KOTAKBANK.NS',\n",
    "    'ITC.NS'\n",
    "]"
   ]
  },
  {
   "cell_type": "markdown",
   "metadata": {},
   "source": [
    "## 2. Download Historical Data"
   ]
  },
  {
   "cell_type": "code",
   "execution_count": null,
   "metadata": {},
   "source": [
    "def fetch_historical_data(symbol, start_date, end_date):\n",
    "    \"\"\"Fetch historical data for a stock.\"\"\"\n",
    "    ticker = yf.Ticker(symbol)\n",
    "    daily_data = ticker.history(start=start_date, end=end_date, interval=\"1d\")\n",
    "    \n",
    "    if daily_data.empty:\n",
    "        print(f\"No data for {symbol}\")\n",
    "        return None, None\n",
    "    \n",
    "    # Resample to weekly\n",
    "    weekly_data = daily_data.resample('W').agg({\n",
    "        'Open': 'first',\n",
    "        'High': 'max',\n",
    "        'Low': 'min',\n",
    "        'Close': 'last',\n",
    "        'Volume': 'sum'\
